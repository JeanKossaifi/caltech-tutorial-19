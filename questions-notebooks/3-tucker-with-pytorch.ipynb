{
 "cells": [
  {
   "cell_type": "code",
   "execution_count": 1,
   "metadata": {},
   "outputs": [],
   "source": [
    "import numpy as np\n",
    "\n",
    "# Import PyTorch\n",
    "import torch\n",
    "\n",
    "# Import TensorLy\n",
    "import tensorly as tl\n",
    "from tensorly.tucker_tensor import tucker_to_tensor\n",
    "from tensorly import random"
   ]
  },
  {
   "cell_type": "code",
   "execution_count": 2,
   "metadata": {},
   "outputs": [],
   "source": [
    "tl.set_backend('pytorch')"
   ]
  },
  {
   "cell_type": "markdown",
   "metadata": {},
   "source": [
    "Make the results reproducible by fixing the random seed"
   ]
  },
  {
   "cell_type": "code",
   "execution_count": 3,
   "metadata": {},
   "outputs": [],
   "source": [
    "random_state = 1234\n",
    "rng = random.check_random_state(random_state)\n",
    "#device = 'cuda:8'\n",
    "device = 'cpu'"
   ]
  },
  {
   "cell_type": "markdown",
   "metadata": {},
   "source": [
    "Define a random tensor which we will try to decompose. "
   ]
  },
  {
   "cell_type": "code",
   "execution_count": 10,
   "metadata": {},
   "outputs": [],
   "source": [
    "shape = [5, 5, 5]\n",
    "tensor = tl.tensor(rng.random_sample(shape), device=device, requires_grad=True)"
   ]
  },
  {
   "cell_type": "markdown",
   "metadata": {},
   "source": [
    "Initialise a random Tucker decomposition of that tensor\n",
    "\n"
   ]
  },
  {
   "cell_type": "markdown",
   "metadata": {},
   "source": [
    "## Manually creating the core and factors "
   ]
  },
  {
   "cell_type": "code",
   "execution_count": 12,
   "metadata": {},
   "outputs": [],
   "source": [
    "ranks = [5, 5, 5]\n",
    "core, factors = random.random_tucker(tensor.shape, ranks, random_state=rng, device=device, requires_grad=True) "
   ]
  },
  {
   "cell_type": "markdown",
   "metadata": {},
   "source": [
    "Now we just iterate through the training loop and backpropagate...\n",
    "\n"
   ]
  },
  {
   "cell_type": "code",
   "execution_count": 13,
   "metadata": {},
   "outputs": [
    {
     "name": "stdout",
     "output_type": "stream",
     "text": [
      "Epoch 1000,. Rec. error: 9.115717887878418\n",
      "Epoch 2000,. Rec. error: 6.1349968910217285\n",
      "Epoch 3000,. Rec. error: 4.09965181350708\n",
      "Epoch 4000,. Rec. error: 2.7105443477630615\n",
      "Epoch 5000,. Rec. error: 1.7927000522613525\n",
      "Epoch 6000,. Rec. error: 1.230177402496338\n",
      "Epoch 7000,. Rec. error: 0.9196777939796448\n",
      "Epoch 8000,. Rec. error: 0.7510644793510437\n",
      "Epoch 9000,. Rec. error: 0.6426191926002502\n"
     ]
    }
   ],
   "source": [
    "n_iter = 10000\n",
    "lr = 0.00005\n",
    "penalty = 0.1\n",
    "\n",
    "optimizer = torch.optim.Adam([core]+factors, lr=lr)\n",
    "# [core, factors[0], factors[1], ...]\n",
    "\n",
    "for i in range(1, n_iter):\n",
    "    # Important: do not forget to reset the gradients\n",
    "    optimizer.zero_grad()\n",
    "\n",
    "    # Reconstruct the tensor from the decomposed form\n",
    "\n",
    "    # squared l2 loss on the reconstruction error\n",
    "\n",
    "    # squared l2 penalty on the factors of the decomposition\n",
    "\n",
    "    loss.backward()\n",
    "    optimizer.step()\n",
    "\n",
    "    if i % 1000 == 0:\n",
    "        rec_error = tl.norm(rec.data - tensor.data, 2)/tl.norm(tensor.data, 2)\n",
    "        print(\"Epoch {},. Rec. error: {}\".format(i, rec_error))\n"
   ]
  },
  {
   "cell_type": "code",
   "execution_count": null,
   "metadata": {},
   "outputs": [],
   "source": []
  }
 ],
 "metadata": {
  "kernelspec": {
   "display_name": "Python 3",
   "language": "python",
   "name": "python3"
  },
  "language_info": {
   "codemirror_mode": {
    "name": "ipython",
    "version": 3
   },
   "file_extension": ".py",
   "mimetype": "text/x-python",
   "name": "python",
   "nbconvert_exporter": "python",
   "pygments_lexer": "ipython3",
   "version": "3.7.3"
  }
 },
 "nbformat": 4,
 "nbformat_minor": 2
}
